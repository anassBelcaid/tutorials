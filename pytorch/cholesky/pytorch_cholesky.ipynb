{
 "cells": [
  {
   "cell_type": "markdown",
   "metadata": {},
   "source": [
    "# Testing pytorch Cholesky"
   ]
  },
  {
   "cell_type": "code",
   "execution_count": 1,
   "metadata": {},
   "outputs": [],
   "source": [
    "import torch\n",
    "import matplotlib.pyplot as plt"
   ]
  },
  {
   "cell_type": "code",
   "execution_count": 2,
   "metadata": {},
   "outputs": [],
   "source": [
    "def make_random_diagonal_dominant(size=10,batch_size=100):\n",
    "    \"\"\"\n",
    "    Function to construct a diagonal dominant random matrix\n",
    "    \"\"\"\n",
    "    \n",
    "    A= torch.rand(batch_size,size,size,device='cuda')\n",
    "    #making the diagonal dominant\n",
    "    for i in range(size):\n",
    "        A[:,i,i]  = 1+torch.sum(torch.abs(A[:,i,:]),dim=1)\n",
    "    return A"
   ]
  },
  {
   "cell_type": "code",
   "execution_count": 16,
   "metadata": {},
   "outputs": [
    {
     "name": "stdout",
     "output_type": "stream",
     "text": [
      "tensor([[[3.5004, 0.5380, 0.4971, 0.7907, 0.0185],\n",
      "         [0.0540, 3.0303, 0.0239, 0.7700, 0.3132],\n",
      "         [0.0287, 0.7182, 3.5238, 0.6928, 0.5704],\n",
      "         [0.7437, 0.5990, 0.3266, 4.0062, 0.8172],\n",
      "         [0.9077, 0.9815, 0.4275, 0.5531, 4.4022]],\n",
      "\n",
      "        [[3.0221, 0.1783, 0.8594, 0.4575, 0.2829],\n",
      "         [0.2101, 2.1971, 0.2284, 0.0640, 0.5432],\n",
      "         [0.7848, 0.3128, 4.2196, 0.3059, 0.9657],\n",
      "         [0.5801, 0.4965, 0.2462, 2.8157, 0.1420],\n",
      "         [0.1951, 0.9597, 0.7358, 0.9871, 3.8941]],\n",
      "\n",
      "        [[2.8320, 0.5314, 0.0587, 0.5879, 0.1861],\n",
      "         [0.5568, 3.7999, 0.8690, 0.4276, 0.9031],\n",
      "         [0.3730, 0.7378, 4.1418, 0.9783, 0.1625],\n",
      "         [0.4683, 0.4711, 0.4930, 3.3135, 0.5870],\n",
      "         [0.9159, 0.6682, 0.0150, 0.4420, 3.5741]]], device='cuda:0')\n"
     ]
    }
   ],
   "source": [
    "A = make_random_diagonal_dominant(5,3)\n",
    "print(A)"
   ]
  },
  {
   "cell_type": "code",
   "execution_count": 25,
   "metadata": {},
   "outputs": [],
   "source": [
    " # Nom we will compute the decomposition"
   ]
  },
  {
   "cell_type": "code",
   "execution_count": 17,
   "metadata": {},
   "outputs": [
    {
     "name": "stdout",
     "output_type": "stream",
     "text": [
      "intial batch matrix\n",
      "tensor([[3.5004, 0.5380, 0.4971, 0.7907, 0.0185],\n",
      "        [0.0540, 3.0303, 0.0239, 0.7700, 0.3132],\n",
      "        [0.0287, 0.7182, 3.5238, 0.6928, 0.5704],\n",
      "        [0.7437, 0.5990, 0.3266, 4.0062, 0.8172],\n",
      "        [0.9077, 0.9815, 0.4275, 0.5531, 4.4022]], device='cuda:0')\n",
      "chekking the multiplication\n",
      "tensor([[3.5004, 0.0540, 0.0287, 0.7437, 0.9077],\n",
      "        [0.0540, 3.0303, 0.7182, 0.5990, 0.9815],\n",
      "        [0.0287, 0.7182, 3.5238, 0.3266, 0.4275],\n",
      "        [0.7437, 0.5990, 0.3266, 4.0062, 0.5531],\n",
      "        [0.9077, 0.9815, 0.4275, 0.5531, 4.4022]], device='cuda:0')\n"
     ]
    }
   ],
   "source": [
    "L = torch.cholesky(A,upper=False)\n",
    "print(\"intial batch matrix\")\n",
    "print(A[0])\n",
    "\n",
    "print(\"chekking the multiplication\")\n",
    "print(torch.matmul(L[0],torch.transpose(L[0],1,0)))"
   ]
  },
  {
   "cell_type": "code",
   "execution_count": null,
   "metadata": {},
   "outputs": [],
   "source": []
  }
 ],
 "metadata": {
  "kernelspec": {
   "display_name": "Python 3",
   "language": "python",
   "name": "python3"
  },
  "language_info": {
   "codemirror_mode": {
    "name": "ipython",
    "version": 3
   },
   "file_extension": ".py",
   "mimetype": "text/x-python",
   "name": "python",
   "nbconvert_exporter": "python",
   "pygments_lexer": "ipython3",
   "version": "3.6.7"
  }
 },
 "nbformat": 4,
 "nbformat_minor": 2
}
